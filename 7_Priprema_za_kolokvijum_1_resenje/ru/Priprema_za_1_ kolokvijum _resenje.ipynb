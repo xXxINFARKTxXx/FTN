{
 "cells": [
  {
   "cell_type": "markdown",
   "metadata": {},
   "source": [
    "# Подготовка к первому компьютерному коллоквиуму\n",
    "Дан набор данных о сотрудниках. Цель - создать модель линейной регрессии, которая, основываясь на данных из файла data/train.csv, предсказывает зарплату.\n",
    "\n",
    "В качестве метрики в задачах использовать *RMSE*, если не указано обратное.\n",
    "\n",
    "Используйте уровень доверия 95% для всех статистических тестов, если не указано обратное."
   ]
  },
  {
   "cell_type": "markdown",
   "metadata": {},
   "source": [
    "**Задача 1.** <br>\n",
    "Создайте модель линейной регрессии, используя все атрибуты. \n",
    "Выведите метрику, которую достигает модель."
   ]
  },
  {
   "cell_type": "code",
   "execution_count": 19,
   "metadata": {},
   "outputs": [
    {
     "data": {
      "text/html": [
       "<div>\n",
       "<style scoped>\n",
       "    .dataframe tbody tr th:only-of-type {\n",
       "        vertical-align: middle;\n",
       "    }\n",
       "\n",
       "    .dataframe tbody tr th {\n",
       "        vertical-align: top;\n",
       "    }\n",
       "\n",
       "    .dataframe thead th {\n",
       "        text-align: right;\n",
       "    }\n",
       "</style>\n",
       "<table border=\"1\" class=\"dataframe\">\n",
       "  <thead>\n",
       "    <tr style=\"text-align: right;\">\n",
       "      <th></th>\n",
       "      <th>plata</th>\n",
       "      <th>zvanje</th>\n",
       "      <th>oblast</th>\n",
       "      <th>godina_doktor</th>\n",
       "      <th>godina_iskustva</th>\n",
       "      <th>pol Zenski</th>\n",
       "      <th>pol Muski</th>\n",
       "    </tr>\n",
       "  </thead>\n",
       "  <tbody>\n",
       "    <tr>\n",
       "      <th>0</th>\n",
       "      <td>77500</td>\n",
       "      <td>1.0</td>\n",
       "      <td>0</td>\n",
       "      <td>NaN</td>\n",
       "      <td>2</td>\n",
       "      <td>1</td>\n",
       "      <td>0</td>\n",
       "    </tr>\n",
       "    <tr>\n",
       "      <th>1</th>\n",
       "      <td>142253</td>\n",
       "      <td>3.0</td>\n",
       "      <td>1</td>\n",
       "      <td>49.0</td>\n",
       "      <td>60</td>\n",
       "      <td>0</td>\n",
       "      <td>1</td>\n",
       "    </tr>\n",
       "    <tr>\n",
       "      <th>2</th>\n",
       "      <td>124714</td>\n",
       "      <td>NaN</td>\n",
       "      <td>1</td>\n",
       "      <td>23.0</td>\n",
       "      <td>15</td>\n",
       "      <td>0</td>\n",
       "      <td>1</td>\n",
       "    </tr>\n",
       "    <tr>\n",
       "      <th>3</th>\n",
       "      <td>147765</td>\n",
       "      <td>3.0</td>\n",
       "      <td>1</td>\n",
       "      <td>45.0</td>\n",
       "      <td>45</td>\n",
       "      <td>0</td>\n",
       "      <td>1</td>\n",
       "    </tr>\n",
       "    <tr>\n",
       "      <th>4</th>\n",
       "      <td>106294</td>\n",
       "      <td>NaN</td>\n",
       "      <td>0</td>\n",
       "      <td>21.0</td>\n",
       "      <td>8</td>\n",
       "      <td>0</td>\n",
       "      <td>1</td>\n",
       "    </tr>\n",
       "  </tbody>\n",
       "</table>\n",
       "</div>"
      ],
      "text/plain": [
       "    plata  zvanje  oblast  godina_doktor  godina_iskustva  pol Zenski  \\\n",
       "0   77500     1.0       0            NaN                2           1   \n",
       "1  142253     3.0       1           49.0               60           0   \n",
       "2  124714     NaN       1           23.0               15           0   \n",
       "3  147765     3.0       1           45.0               45           0   \n",
       "4  106294     NaN       0           21.0                8           0   \n",
       "\n",
       "   pol Muski  \n",
       "0          0  \n",
       "1          1  \n",
       "2          1  \n",
       "3          1  \n",
       "4          1  "
      ]
     },
     "execution_count": 19,
     "metadata": {},
     "output_type": "execute_result"
    }
   ],
   "source": [
    "import pandas as pd\n",
    "from sklearn.model_selection import train_test_split\n",
    "from utils_nans1 import *\n",
    "\n",
    "# загружаем данные\n",
    "df = pd.read_csv('data/train.csv', sep=',')\n",
    "df.head()"
   ]
  },
  {
   "cell_type": "code",
   "execution_count": 20,
   "metadata": {},
   "outputs": [
    {
     "name": "stdout",
     "output_type": "stream",
     "text": [
      "0.7625052975730555\n"
     ]
    }
   ],
   "source": [
    "# Перед обучением модели необходимо решить вопросы с пропущенными значениями.\n",
    "# Самый простой способ - удалить все строки.\n",
    "df = df.dropna()\n",
    "\n",
    "# обучаем модель (ищем параметры)\n",
    "x = df.drop(columns=['plata'])\n",
    "y = df['plata']\n",
    "model = get_fitted_model(x, y)\n",
    "\n",
    "# регистрируем метрику на тестовом наборе\n",
    "df_test = pd.read_csv('data/test.csv', sep=',')\n",
    "x_test = df_test.drop(columns=['plata'])\n",
    "y_test = df_test['plata']\n",
    "test_rmse = get_rsquared(model, x_test, y_test)\n",
    "print(test_rmse)"
   ]
  },
  {
   "cell_type": "markdown",
   "metadata": {},
   "source": [
    "**Задача 2.** <br>\n",
    "Когда сотрудник получает повышение (например, переходит с позиции 1 на позицию 2), какое минимальное и максимальное увеличение заработной платы он ожидает?\n",
    "Объясните, являются ли найденные значения допустимыми."
   ]
  },
  {
   "cell_type": "markdown",
   "metadata": {},
   "source": [
    "**Обяснение:**  \n",
    "Согласно текущей регрессионной модели, параметр, связанный с переменной \"zvanje\" (позив), приблизительно ~ 24480 (видно из вызова метода `summary()`). Это означает, что \"plata\" в среднем увеличивается на 24480$, когда \"zvanje\" увеличивается на 1 (работник повысился).\n",
    "В задаче спрашивается о минимальном и максимальном увеличении зарплаты, когда \"zvanje\" увеличится на 1. Фактически нас спрашивают, каковы минимальное и максимальное значение параметра, стоящего у \"zvanje\". Эти два значения представляют **доверительный интервал** для переменной \"zvanje\". Нам нужно найти доверительный интервал для этой переменной. Чтобы найти минимальное и максимальное увеличение зарплаты, мы вызываем: `get_conf_interval(model, 'zvanje', alpha=0.05)`.\n",
    "После вызова метода мы видим, что минимальное увеличение зарплаты составляет ~ 14000$, а максимальное ~ 24000$.\n",
    "\n",
    "Однако эти значения недействительны (не являются надежными). Теория говорит, что интервалы доверия являются действительными, если выполняется предпосылка об независимости ошибок. В нашем случае предпосылка не выполняется, и, следовательно, найденные значения недействительны.\n"
   ]
  },
  {
   "cell_type": "code",
   "execution_count": 21,
   "metadata": {},
   "outputs": [
    {
     "name": "stdout",
     "output_type": "stream",
     "text": [
      "13999.72\n",
      "24289.69\n",
      "Значения недействительны.\n"
     ]
    }
   ],
   "source": [
    "# ищем минимальное и максимальное значения\n",
    "min_expected_raise, max_expected_raise = get_conf_interval(model, 'zvanje', alpha=0.05)\n",
    "print(f'{min_expected_raise:.2f}')\n",
    "print(f'{max_expected_raise:.2f}')\n",
    "\n",
    "# проверка на то, являются ли минимальное и максимальное значения действительными\n",
    "autocorrelation, _ = independence_of_errors_assumption(model, sm.add_constant(x), y, plot=False)\n",
    "if autocorrelation is None:\n",
    "    print('Значения действительны, потому что выполняется предпосылка о независимости ошибок.')\n",
    "else:\n",
    "    print('Значения недействительны.')\n"
   ]
  },
  {
   "cell_type": "markdown",
   "metadata": {},
   "source": [
    "**Задача 3.** <br>\n",
    "Усовершенствовать модель так, чтобы все предположения были выполнены и значение RMSE было меньше `11 170`. Использовать разделение на *train/val* в соотношении: *80/20*. Вывести показатель, который достигает модель.\n",
    "\n",
    "*Примечание: использовать `random state = 42` (чтобы результаты можно было воспроизвести).*"
   ]
  },
  {
   "cell_type": "markdown",
   "metadata": {},
   "source": [
    "# Объяснение:\n",
    "1. Нам нужно помнить о более продвинутых методах обработки пропущенных значений вместо простого удаления строк (который мы использовали в начале). Здесь мы использовали интерполяцию, потому что она дает лучшие результаты (всегда стоит пробовать разные методы).\n",
    "\n",
    "2. Нам нужно подумать, является ли какой-то столбец избыточным (используем значения t-теста). Глядя на значения, мы можем заключить, что столбцы для пола не влияют на зарплату, поэтому мы удаляем эти столбцы => и получаем лучший показатель RMSE.\n",
    "   Также важно удалить хотя бы один столбец для пола, чтобы избежать совершенной коллинеарности (чтобы удовлетворить всем предположениям, в том числе предположению о совершенной коллинеарности).\n",
    "\n",
    "3. Данные из файла *train.csv* разделяем на обучающий и валидационный наборы, вызывая метод `train_test_split`. Важно обучать модель на обучающем наборе. Чтобы найти лучшую модель, мы смотрим на показатель качества на валидационном наборе, где цель - получить как можно меньший показатель RMSE.\n",
    "\n",
    "4. Обязательно проверяем показатель на тестовом наборе! Это результат нашей модели. Когда мы нашли хорошие параметры модели, этот показатель будет менее 11 700 (конкретное значение - около 11 200).\n",
    "\n",
    "5. Каждый раз, когда мы изменяем параметры модели, мы должны проверить, удовлетворяют ли все предположения (как требует задача). В этом примере удовлетворены все предположения, кроме предположения о нормальности ошибок. Мы можем игнорировать это предположение, когда у нас есть много данных (что здесь и есть, потому что у нас есть более 150 данных).\n"
   ]
  },
  {
   "cell_type": "code",
   "execution_count": 22,
   "metadata": {},
   "outputs": [
    {
     "name": "stdout",
     "output_type": "stream",
     "text": [
      "False\n",
      "валидационное rmse: 21029.75\n",
      "тестовое rmse: 11165.79\n"
     ]
    }
   ],
   "source": [
    "# Загружаем данные\n",
    "df = pd.read_csv('data/train.csv', sep=',')\n",
    "\n",
    "# Интерполируем вместо удаления значений, чтобы удовлетворить все предположения\n",
    "df['zvanje'] = df['zvanje'].interpolate(method='spline', order=3, limit_direction='both')\n",
    "df['godina_doktor'] = df['godina_doktor'].interpolate(method='linear', limit_direction='both')\n",
    "\n",
    "# Удаляем колонку пола Мужчины (или пола Женщины), чтобы избежать полной коллинеарности\n",
    "df = df.drop(columns=['pol Muski', 'pol Zenski'])\n",
    "\n",
    "# Делим данные на 80-20\n",
    "x = df.drop(columns=['plata'])\n",
    "y = df['plata']\n",
    "x_train, x_val, y_train, y_val = train_test_split(x, y, train_size=0.8, shuffle=True, random_state=42)\n",
    "\n",
    "# Обучаем модель\n",
    "model = get_fitted_model(x_train, y_train)\n",
    "\n",
    "# Проверяем, удовлетворены ли предположения (см. объяснение)\n",
    "print(are_assumptions_satisfied(model, x_train, y_train))\n",
    "\n",
    "# Оцениваем модель на валидационном наборе данных, чтобы найти лучшую модель\n",
    "val_rmse = get_rmse(model, x_val, y_val)\n",
    "print(f'валидационное rmse: {val_rmse:.2f}')\n",
    "\n",
    "# Сообщаем оценку на тестовом наборе данных\n",
    "df_test = pd.read_csv('data/test.csv', sep=',')\n",
    "x_test = df_test.drop(columns=['plata', 'pol Muski', 'pol Zenski'])\n",
    "y_test = df_test['plata']\n",
    "test_rmse = get_rmse(model, x_test, y_test)\n",
    "print(f'тестовое rmse: {test_rmse:.2f}')"
   ]
  },
  {
   "cell_type": "markdown",
   "metadata": {},
   "source": [
    "**Задача 4.** <br>\n",
    "Существует ли хотя бы одна независимая переменная, линейно связанная с зарплатой? Обоснуйте ваш ответ."
   ]
  },
  {
   "cell_type": "code",
   "execution_count": 23,
   "metadata": {},
   "outputs": [
    {
     "name": "stdout",
     "output_type": "stream",
     "text": [
      "                            OLS Regression Results                            \n",
      "==============================================================================\n",
      "Dep. Variable:                  plata   R-squared:                       0.463\n",
      "Model:                            OLS   Adj. R-squared:                  0.454\n",
      "Method:                 Least Squares   F-statistic:                     50.04\n",
      "Date:                Wed, 06 Dec 2023   Prob (F-statistic):           2.52e-30\n",
      "Time:                        06:19:24   Log-Likelihood:                -2688.8\n",
      "No. Observations:                 237   AIC:                             5388.\n",
      "Df Residuals:                     232   BIC:                             5405.\n",
      "Df Model:                           4                                         \n",
      "Covariance Type:            nonrobust                                         \n",
      "===================================================================================\n",
      "                      coef    std err          t      P>|t|      [0.025      0.975]\n",
      "-----------------------------------------------------------------------------------\n",
      "const            4.407e+04   5502.727      8.009      0.000    3.32e+04    5.49e+04\n",
      "zvanje           1.948e+04   2328.114      8.366      0.000    1.49e+04    2.41e+04\n",
      "oblast           1.393e+04   2745.621      5.075      0.000    8524.749    1.93e+04\n",
      "godina_doktor     763.8809    173.639      4.399      0.000     421.771    1105.991\n",
      "godina_iskustva  -154.7464    167.220     -0.925      0.356    -484.210     174.718\n",
      "==============================================================================\n",
      "Omnibus:                       13.597   Durbin-Watson:                   1.863\n",
      "Prob(Omnibus):                  0.001   Jarque-Bera (JB):               14.245\n",
      "Skew:                           0.572   Prob(JB):                     0.000807\n",
      "Kurtosis:                       3.364   Cond. No.                         144.\n",
      "==============================================================================\n",
      "\n",
      "Notes:\n",
      "[1] Standard Errors assume that the covariance matrix of the errors is correctly specified.\n"
     ]
    }
   ],
   "source": [
    "# Вызовом model.summary() видим, что p-значение F-теста составляет 2.44e-30, что меньше 5%.\n",
    "# Поэтому мы с уверенностью 95% можем утверждать, что по крайней мере одна независимая переменная имеет линейную связь с зарплатой.\n",
    "print(model.summary())"
   ]
  },
  {
   "cell_type": "markdown",
   "metadata": {},
   "source": [
    "**Задача 5.** <br>\n",
    "Объясните меру скорректированного $r^2$."
   ]
  },
  {
   "cell_type": "code",
   "execution_count": 24,
   "metadata": {},
   "outputs": [],
   "source": [
    "# Этот вопрос чисто теоретический. \n",
    "# Ответ на него можно найти в материалах для лекций и практических занятий, когда рассматривалась множественная регрессия."
   ]
  }
 ],
 "metadata": {
  "kernelspec": {
   "display_name": "Python 3",
   "language": "python",
   "name": "python3"
  },
  "language_info": {
   "codemirror_mode": {
    "name": "ipython",
    "version": 3
   },
   "file_extension": ".py",
   "mimetype": "text/x-python",
   "name": "python",
   "nbconvert_exporter": "python",
   "pygments_lexer": "ipython3",
   "version": "3.11.6"
  }
 },
 "nbformat": 4,
 "nbformat_minor": 2
}
